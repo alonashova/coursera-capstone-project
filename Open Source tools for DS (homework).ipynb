{
    "cells": [
        {
            "metadata": {
                "collapsed": true
            },
            "cell_type": "markdown",
            "source": "# My Jupyter Notebook on IBM Data Science Experience"
        },
        {
            "metadata": {},
            "cell_type": "markdown",
            "source": "**Alona Chernyshova** \n\nLead Data Scientist in a company designing the future"
        },
        {
            "metadata": {},
            "cell_type": "markdown",
            "source": "*I am interested in data science because it allows humanity to solve complex problems and predict complex processes. It is one of the ways for humans to design bright future for all of us.*"
        },
        {
            "metadata": {},
            "cell_type": "markdown",
            "source": "### I am planning to calculate 3 to the power of 4 and print out the result"
        },
        {
            "metadata": {},
            "cell_type": "code",
            "source": "n = 1\nfor i in range(1,5): \n    n=3*n \n  \nprint (\"The value of 3**4 is : \",end=\"\") \nprint (n) ",
            "execution_count": 2,
            "outputs": [
                {
                    "output_type": "stream",
                    "text": "The value of 3**4 is : 81\n",
                    "name": "stdout"
                }
            ]
        },
        {
            "metadata": {},
            "cell_type": "markdown",
            "source": "Colons can be used to align columns.\n\n| **Mama**    | **Daddy**       | **Me**    |\n| ----------- |:---------------:| ---------:|\n| bananas     | apples          | kiwi      |\n| artist      | scientist       | dreamer   |\n| fashion     | sports          | cartoons  |\n\n~~There must be at least 3 dashes separating each header cell.\nThe outer pipes (|) are optional, and you don't need to make the \nraw Markdown line up prettily. You can also use inline Markdown.~~\n\n[Data Scientist Job Satisfaction](https://www.businessinsider.com/what-its-like-to-be-a-data-scientist-best-job-in-america-2017-9)\n\nI will be working on a `challenging`, `exciting`, `important`, `profitable` and `successful` project. \n\n\n\n"
        },
        {
            "metadata": {},
            "cell_type": "code",
            "source": "",
            "execution_count": null,
            "outputs": []
        }
    ],
    "metadata": {
        "kernelspec": {
            "name": "python3",
            "display_name": "Python 3.6",
            "language": "python"
        },
        "language_info": {
            "name": "python",
            "version": "3.6.8",
            "mimetype": "text/x-python",
            "codemirror_mode": {
                "name": "ipython",
                "version": 3
            },
            "pygments_lexer": "ipython3",
            "nbconvert_exporter": "python",
            "file_extension": ".py"
        }
    },
    "nbformat": 4,
    "nbformat_minor": 1
}